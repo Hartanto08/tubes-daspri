{
 "cells": [
  {
   "attachments": {},
   "cell_type": "markdown",
   "metadata": {},
   "source": [
    "General Utilities"
   ]
  },
  {
   "cell_type": "code",
   "execution_count": 8,
   "metadata": {},
   "outputs": [],
   "source": [
    "def attach(array,x):\n",
    "    return (array + [x])\n",
    "\n",
    "def my_length(l):\n",
    "    if l == \"\" or l == []:\n",
    "        return 0\n",
    "    else:\n",
    "        return 1 + my_length(l[1:])\n",
    "\n",
    "def my_strip(string, str):\n",
    "    i = 0\n",
    "    array = list(string)\n",
    "    while i < my_length(array):\n",
    "        if array[i] == str:\n",
    "            del array[i]\n",
    "            \n",
    "        i += 1\n",
    "    newstring =\"\"\n",
    "    for i in range (0, my_length(array)):\n",
    "        newstring += array[i]\n",
    "    return newstring\n",
    "\n",
    "def isElmt(x,array):\n",
    "    for i in array:\n",
    "        if x == i : return True\n",
    "    return False\n",
    "    \n",
    "def my_count(x, array):\n",
    "    if array[0] != x :\n",
    "        return 0 + my_count(x, array[1:])\n",
    "    else:\n",
    "        return 1 + my_count(x, array[1:])\n",
    "\n",
    "\n",
    "\n",
    "\n"
   ]
  },
  {
   "attachments": {},
   "cell_type": "markdown",
   "metadata": {},
   "source": [
    "Csv reader"
   ]
  },
  {
   "cell_type": "code",
   "execution_count": 5,
   "metadata": {},
   "outputs": [],
   "source": [
    "def my_csvread(file):\n",
    "    rawD = []\n",
    "    \n",
    "    for line in open (file):\n",
    "        rawD = attach(rawD, my_strip(line, \"\\n\"))\n",
    "    Data = [[] for j in range ((my_length(rawD))-1)]\n",
    "\n",
    "    for i in range (1, my_length(rawD)):\n",
    "        Dstr = \"\"\n",
    "        for j in rawD[i]:\n",
    "            if j != \";\":\n",
    "                Dstr += j\n",
    "            else:\n",
    "                Data[i-1] = attach(Data[i-1],Dstr)\n",
    "            Dstr = \"\"\n",
    "        Data[i-1] = attach(Data[i-1],Dstr)\n",
    "\n",
    "    return Data\n",
    "# return dalam bentuk nested list "
   ]
  },
  {
   "cell_type": "code",
   "execution_count": null,
   "metadata": {},
   "outputs": [],
   "source": []
  }
 ],
 "metadata": {
  "kernelspec": {
   "display_name": "Python 3",
   "language": "python",
   "name": "python3"
  },
  "language_info": {
   "codemirror_mode": {
    "name": "ipython",
    "version": 3
   },
   "file_extension": ".py",
   "mimetype": "text/x-python",
   "name": "python",
   "nbconvert_exporter": "python",
   "pygments_lexer": "ipython3",
   "version": "3.10.5 (tags/v3.10.5:f377153, Jun  6 2022, 16:14:13) [MSC v.1929 64 bit (AMD64)]"
  },
  "orig_nbformat": 4,
  "vscode": {
   "interpreter": {
    "hash": "add4cfe2ad524973f097ead0eb74f2a0ffd6a5d06ea7370ce22e3c4a95e59c43"
   }
  }
 },
 "nbformat": 4,
 "nbformat_minor": 2
}
